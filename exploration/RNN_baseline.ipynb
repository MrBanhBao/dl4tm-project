{
 "cells": [
  {
   "cell_type": "code",
   "execution_count": 1,
   "metadata": {},
   "outputs": [
    {
     "name": "stderr",
     "output_type": "stream",
     "text": [
      "Using TensorFlow backend.\n"
     ]
    }
   ],
   "source": [
    "import os\n",
    "import sys\n",
    "import json\n",
    "import random\n",
    "import numpy as np\n",
    "import pandas as pd\n",
    "from pandas.io.json import json_normalize\n",
    "import keras\n",
    "from keras.layers import LSTM, Dense\n",
    "from keras.models import Sequential"
   ]
  },
  {
   "cell_type": "code",
   "execution_count": 2,
   "metadata": {},
   "outputs": [],
   "source": [
    "def load_json(json_path, artists=[]):\n",
    "    if (os.path.isfile(json_path)):\n",
    "        print(\"json\")\n",
    "        with open(json_path) as f:\n",
    "            song_data = json.load(f)\n",
    "            return song_data['songs']\n",
    "        \n",
    "    elif (os.path.isdir(json_path)):\n",
    "        data = []\n",
    "        json_files = []\n",
    "        if (len(artists) > 0):\n",
    "            for artist in artists:\n",
    "                json_files = json_files + [json_file for json_file in os.listdir(json_path) if ((json_file.endswith('.json')) & (artist in json_file))]\n",
    "        else:\n",
    "            json_files = [json_file for json_file in os.listdir(json_path) if json_file.endswith('.json')]\n",
    "\n",
    "        for json_file in json_files:\n",
    "            path_to_json = os.path.join(json_path, json_file)\n",
    "            with open(path_to_json) as f:\n",
    "                song_data = json.load(f)\n",
    "                data = data + song_data['songs']\n",
    "        \n",
    "        return data\n",
    "    \n",
    "    \n",
    "def reweight_distribution(original_distribution, temperature=0.5):\n",
    "    distribution = np.log(original_distribution) / temperature\n",
    "    distribution = np.exp(distribution)\n",
    "    \n",
    "    return distribution / np.sum(distribution)\n",
    "\n",
    "\n",
    "def sample(preds, temperature=1.0):\n",
    "    preds = np.asarray(preds).astype('float64')\n",
    "    preds = np.log(preds) / temperature\n",
    "    exp_preds = np.exp(preds)\n",
    "    preds = exp_preds / np.sum(exp_preds)\n",
    "    probas = np.random.multinomial(1, preds, 1)\n",
    "    \n",
    "    return np.argmax(probas)\n"
   ]
  },
  {
   "cell_type": "code",
   "execution_count": 3,
   "metadata": {},
   "outputs": [],
   "source": [
    "# Parameterts\n",
    "maxlen = 60  # extraxt sequences of n characters\n",
    "step = 3     # sample new seq every n characters\n",
    "json_path = '../data/'\n",
    "artists = ['2Pac']"
   ]
  },
  {
   "cell_type": "markdown",
   "metadata": {},
   "source": [
    "## Datapreprocessing"
   ]
  },
  {
   "cell_type": "code",
   "execution_count": 4,
   "metadata": {},
   "outputs": [
    {
     "name": "stdout",
     "output_type": "stream",
     "text": [
      "Corpus length: 388104\n"
     ]
    }
   ],
   "source": [
    "# load data\n",
    "data = load_json(json_path, artists)\n",
    "df = json_normalize(data)\n",
    "lyrics = \" \".join(df.lyrics.values).lower()\n",
    "\n",
    "print('Corpus length: {}'.format(len(lyrics)))"
   ]
  },
  {
   "cell_type": "code",
   "execution_count": 5,
   "metadata": {},
   "outputs": [
    {
     "name": "stdout",
     "output_type": "stream",
     "text": [
      "Number of sequences: 129348\n",
      "Unique characters: 70\n"
     ]
    }
   ],
   "source": [
    "sentences = []\n",
    "next_chars = []\n",
    "\n",
    "for i in range(0, len(lyrics) - maxlen, step): # iterates by step size\n",
    "    sentences.append(lyrics[i: i + maxlen]) # get maxlen amount of charachters\n",
    "    next_chars.append(lyrics[i + maxlen])\n",
    "    \n",
    "print('Number of sequences:', len(sentences))\n",
    "\n",
    "chars = sorted(list(set(lyrics))) # list of unique characters\n",
    "print('Unique characters:', len(chars))\n",
    "\n",
    "char_indices = dict((char, chars.index(char)) for char in chars) # maps char with index"
   ]
  },
  {
   "cell_type": "code",
   "execution_count": 20,
   "metadata": {},
   "outputs": [
    {
     "data": {
      "text/plain": [
       "['\\n',\n",
       " ' ',\n",
       " '!',\n",
       " '\"',\n",
       " '&',\n",
       " \"'\",\n",
       " '(',\n",
       " ')',\n",
       " '*',\n",
       " '+',\n",
       " ',',\n",
       " '-',\n",
       " '.',\n",
       " '/',\n",
       " '0',\n",
       " '1',\n",
       " '2',\n",
       " '3',\n",
       " '4',\n",
       " '5',\n",
       " '6',\n",
       " '7',\n",
       " '8',\n",
       " '9',\n",
       " ':',\n",
       " ';',\n",
       " '?',\n",
       " '[',\n",
       " ']',\n",
       " 'a',\n",
       " 'b',\n",
       " 'c',\n",
       " 'd',\n",
       " 'e',\n",
       " 'f',\n",
       " 'g',\n",
       " 'h',\n",
       " 'i',\n",
       " 'j',\n",
       " 'k',\n",
       " 'l',\n",
       " 'm',\n",
       " 'n',\n",
       " 'o',\n",
       " 'p',\n",
       " 'q',\n",
       " 'r',\n",
       " 's',\n",
       " 't',\n",
       " 'u',\n",
       " 'v',\n",
       " 'w',\n",
       " 'x',\n",
       " 'y',\n",
       " 'z',\n",
       " '{',\n",
       " '}',\n",
       " '~',\n",
       " '\\xa0',\n",
       " 'é',\n",
       " 'ë',\n",
       " '\\u200b',\n",
       " '–',\n",
       " '—',\n",
       " '‘',\n",
       " '’',\n",
       " '“',\n",
       " '”',\n",
       " '•',\n",
       " '…']"
      ]
     },
     "execution_count": 20,
     "metadata": {},
     "output_type": "execute_result"
    }
   ],
   "source": [
    "chars"
   ]
  },
  {
   "cell_type": "code",
   "execution_count": 6,
   "metadata": {},
   "outputs": [
    {
     "name": "stdout",
     "output_type": "stream",
     "text": [
      "Vectorization...\n"
     ]
    }
   ],
   "source": [
    "print('Vectorization...')\n",
    "\n",
    "x = np.zeros((len(sentences), maxlen, len(chars))) # (sentences)\n",
    "y = np.zeros((len(sentences), len(chars)), dtype=np.bool)\n",
    "\n",
    "for i, sentence in enumerate(sentences):\n",
    "    for t, char in enumerate(sentence):\n",
    "        x[i, t, char_indices[char]] = 1    # one hot encoding\n",
    "    y[i, char_indices[next_chars[i]]] = 1  # one hot encoding"
   ]
  },
  {
   "cell_type": "markdown",
   "metadata": {},
   "source": [
    "## Build Model"
   ]
  },
  {
   "cell_type": "code",
   "execution_count": 7,
   "metadata": {},
   "outputs": [],
   "source": [
    "model = Sequential()\n",
    "model.add(LSTM(128, input_shape=(maxlen, len(chars))))\n",
    "model.add(Dense(len(chars), activation='softmax'))\n",
    "\n",
    "optimizer = keras.optimizers.RMSprop(lr=0.01)\n",
    "model.compile(loss='categorical_crossentropy', optimizer=optimizer)"
   ]
  },
  {
   "cell_type": "code",
   "execution_count": 22,
   "metadata": {},
   "outputs": [
    {
     "name": "stdout",
     "output_type": "stream",
     "text": [
      "_________________________________________________________________\n",
      "Layer (type)                 Output Shape              Param #   \n",
      "=================================================================\n",
      "lstm_1 (LSTM)                (None, 128)               101888    \n",
      "_________________________________________________________________\n",
      "dense_1 (Dense)              (None, 70)                9030      \n",
      "=================================================================\n",
      "Total params: 110,918\n",
      "Trainable params: 110,918\n",
      "Non-trainable params: 0\n",
      "_________________________________________________________________\n"
     ]
    }
   ],
   "source": [
    "model.summary()"
   ]
  },
  {
   "cell_type": "markdown",
   "metadata": {},
   "source": [
    "## Train Model"
   ]
  },
  {
   "cell_type": "code",
   "execution_count": 16,
   "metadata": {},
   "outputs": [
    {
     "name": "stdout",
     "output_type": "stream",
     "text": [
      "Epoch 1/40\n",
      "129348/129348 [==============================] - 79s 614us/step - loss: 1.0768\n",
      "Epoch 2/40\n",
      "129348/129348 [==============================] - 77s 595us/step - loss: 1.0759\n",
      "Epoch 3/40\n",
      "129348/129348 [==============================] - 77s 597us/step - loss: 1.0728\n",
      "Epoch 4/40\n",
      "129348/129348 [==============================] - 78s 606us/step - loss: 1.0722\n",
      "Epoch 5/40\n",
      "129348/129348 [==============================] - 78s 601us/step - loss: 1.0723\n",
      "Epoch 6/40\n",
      "129348/129348 [==============================] - 79s 607us/step - loss: 1.0699\n",
      "Epoch 7/40\n",
      "129348/129348 [==============================] - 80s 615us/step - loss: 1.0702\n",
      "Epoch 8/40\n",
      "129348/129348 [==============================] - 77s 596us/step - loss: 1.0657\n",
      "Epoch 9/40\n",
      "129348/129348 [==============================] - 78s 601us/step - loss: 1.0619\n",
      "Epoch 10/40\n",
      "129348/129348 [==============================] - 78s 601us/step - loss: 1.0644\n",
      "Epoch 11/40\n",
      "129348/129348 [==============================] - 78s 603us/step - loss: 1.0607\n",
      "Epoch 12/40\n",
      "129348/129348 [==============================] - 79s 613us/step - loss: 1.0612\n",
      "Epoch 13/40\n",
      "129348/129348 [==============================] - 76s 591us/step - loss: 1.0598\n",
      "Epoch 14/40\n",
      "129348/129348 [==============================] - 78s 606us/step - loss: 1.0598\n",
      "Epoch 15/40\n",
      "129348/129348 [==============================] - 78s 605us/step - loss: 1.0579\n",
      "Epoch 16/40\n",
      "129348/129348 [==============================] - 79s 607us/step - loss: 1.0587\n",
      "Epoch 17/40\n",
      "129348/129348 [==============================] - 79s 607us/step - loss: 1.0575\n",
      "Epoch 18/40\n",
      "129348/129348 [==============================] - 78s 607us/step - loss: 1.0599\n",
      "Epoch 19/40\n",
      "129348/129348 [==============================] - 79s 609us/step - loss: 1.0584\n",
      "Epoch 20/40\n",
      "129348/129348 [==============================] - 79s 608us/step - loss: 1.0556\n",
      "Epoch 21/40\n",
      "129348/129348 [==============================] - 79s 608us/step - loss: 1.0519\n",
      "Epoch 22/40\n",
      "129348/129348 [==============================] - 79s 609us/step - loss: 1.0513\n",
      "Epoch 23/40\n",
      "129348/129348 [==============================] - 78s 606us/step - loss: 1.0505\n",
      "Epoch 24/40\n",
      "129348/129348 [==============================] - 79s 610us/step - loss: 1.0691\n",
      "Epoch 25/40\n",
      "129348/129348 [==============================] - 79s 613us/step - loss: 1.0554\n",
      "Epoch 26/40\n",
      "129348/129348 [==============================] - 79s 609us/step - loss: 1.0502\n",
      "Epoch 27/40\n",
      "129348/129348 [==============================] - 78s 604us/step - loss: 1.0492\n",
      "Epoch 28/40\n",
      "129348/129348 [==============================] - 78s 605us/step - loss: 1.0457\n",
      "Epoch 29/40\n",
      "129348/129348 [==============================] - 78s 605us/step - loss: 1.0449\n",
      "Epoch 30/40\n",
      "129348/129348 [==============================] - 78s 605us/step - loss: 1.0443\n",
      "Epoch 31/40\n",
      "129348/129348 [==============================] - 78s 606us/step - loss: 1.0434\n",
      "Epoch 32/40\n",
      "129348/129348 [==============================] - 78s 606us/step - loss: 1.0426\n",
      "Epoch 33/40\n",
      "129348/129348 [==============================] - 78s 606us/step - loss: 1.0412\n",
      "Epoch 34/40\n",
      "129348/129348 [==============================] - 78s 602us/step - loss: 1.0421\n",
      "Epoch 35/40\n",
      "129348/129348 [==============================] - 78s 606us/step - loss: 1.0419\n",
      "Epoch 36/40\n",
      "129348/129348 [==============================] - 79s 608us/step - loss: 1.0377\n",
      "Epoch 37/40\n",
      "129348/129348 [==============================] - 78s 607us/step - loss: 1.0405\n",
      "Epoch 38/40\n",
      "129348/129348 [==============================] - 78s 606us/step - loss: 1.0388\n",
      "Epoch 39/40\n",
      "129348/129348 [==============================] - 78s 604us/step - loss: 1.0406\n",
      "Epoch 40/40\n",
      "129348/129348 [==============================] - 78s 602us/step - loss: 1.0374\n"
     ]
    },
    {
     "data": {
      "text/plain": [
       "<keras.callbacks.History at 0x236b2be80>"
      ]
     },
     "execution_count": 16,
     "metadata": {},
     "output_type": "execute_result"
    }
   ],
   "source": [
    "model.fit(x, y, batch_size=128, epochs=40)"
   ]
  },
  {
   "cell_type": "code",
   "execution_count": 18,
   "metadata": {},
   "outputs": [],
   "source": [
    "model.save('./model_100epochs.h5')"
   ]
  },
  {
   "cell_type": "code",
   "execution_count": 67,
   "metadata": {},
   "outputs": [],
   "source": []
  },
  {
   "cell_type": "code",
   "execution_count": 23,
   "metadata": {},
   "outputs": [
    {
     "name": "stdout",
     "output_type": "stream",
     "text": [
      "ly baby, you need a thug in your life\n",
      "these busters ain't lo\n",
      "ving you bitch\n",
      "it's all about you\n",
      "and that when the streets, the streets, but i liet?\n",
      "it's just me and my girlfriend't been gettin' my to the same of time\n",
      "my nigga and be some of the pen\n",
      "laugh and be the streets, the police\n",
      "to be a motherfuckin' words of my pops to the streets\n",
      "and what the world through my say i could see me\n",
      "the pain, heard in my heart make a nigga got to be a motherfuckin' or the trath that i leave to be\n",
      "i had my homies to be a motherfuckin' out, all your motherfucker\n",
      "so i wome through the streets, that's why the world\n",
      "i'm all your motherfuckers and that the stranger\n",
      "so i'm worrivediction, but i leave to be a ride\n",
      "hears in the bloody brown\n",
      "that's why the world through my friends\n",
      "inside the streets, we all the stranger\n",
      "thinks it easy from the worst to be a manive life\n",
      "that i wonder why that i was a panip\n",
      "a ponce that i can easy pain\n",
      "i don't care to be a manive breathin' for the streets\n",
      "and what the world through my manive life\n",
      "that i wonder why the words\n",
      "and if you throw your motherfuckers to the streets\n",
      "and when it through my manicated to the streets\n",
      "\n",
      "[verse  on]\n",
      "i wonder if heaven got a ghetto\n",
      "i wonder if heaven got a ghetto\n",
      "i wonder if heaven got a ghetto\n",
      "y'all was strong when i try to be a motherfuckin' straight round\n",
      "round and round and round\n",
      "lot ain't nothin' but a bad biries and be word\n",
      "it's all about you\n",
      "\n",
      "[verse  on]\n",
      "i wonder what i'm storise to my high good\n",
      "and if you see me, nigga, it's all about you\n",
      "so what you wondafuch you that the stranged\n",
      "nigga"
     ]
    },
    {
     "name": "stderr",
     "output_type": "stream",
     "text": [
      "/Users/hao/anaconda3/envs/py36/lib/python3.6/site-packages/ipykernel_launcher.py:35: RuntimeWarning: divide by zero encountered in log\n"
     ]
    }
   ],
   "source": [
    "temperature = 0.2\n",
    "\n",
    "start_index = random.randint(0, len(lyrics) - maxlen - 1)\n",
    "generated_text = lyrics[start_index: start_index + maxlen]\n",
    "print(generated_text)\n",
    "#print('\\n___________________\\n')\n",
    "for i in range(1500):\n",
    "    sampled = np.zeros((1, maxlen, len(chars)))\n",
    "            \n",
    "    for t, char in enumerate(generated_text):\n",
    "        sampled[0, t, char_indices[char]] = 1.\n",
    "                      \n",
    "    preds = model.predict(sampled, verbose=0)[0]\n",
    "    next_index = sample(preds, temperature)\n",
    "    next_char = chars[next_index]\n",
    "    generated_text += next_char\n",
    "    generated_text = generated_text[1:]\n",
    "    sys.stdout.write(next_char)"
   ]
  },
  {
   "cell_type": "code",
   "execution_count": null,
   "metadata": {},
   "outputs": [],
   "source": []
  },
  {
   "cell_type": "code",
   "execution_count": null,
   "metadata": {},
   "outputs": [],
   "source": []
  }
 ],
 "metadata": {
  "kernelspec": {
   "display_name": "Python 3",
   "language": "python",
   "name": "python3"
  },
  "language_info": {
   "codemirror_mode": {
    "name": "ipython",
    "version": 3
   },
   "file_extension": ".py",
   "mimetype": "text/x-python",
   "name": "python",
   "nbconvert_exporter": "python",
   "pygments_lexer": "ipython3",
   "version": "3.6.7"
  }
 },
 "nbformat": 4,
 "nbformat_minor": 2
}
